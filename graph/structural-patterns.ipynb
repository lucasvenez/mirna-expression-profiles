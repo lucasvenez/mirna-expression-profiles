{
 "cells": [
  {
   "cell_type": "markdown",
   "metadata": {
    "extensions": {
     "jupyter_dashboards": {
      "version": 1,
      "views": {
       "grid_default": {
        "col": 0,
        "height": 4,
        "hidden": true,
        "row": 0,
        "width": 4
       },
       "report_default": {
        "hidden": false
       }
      }
     }
    }
   },
   "source": [
    "Import required libraries"
   ]
  },
  {
   "cell_type": "code",
   "execution_count": 1,
   "metadata": {
    "extensions": {
     "jupyter_dashboards": {
      "version": 1,
      "views": {
       "grid_default": {
        "hidden": true
       },
       "report_default": {
        "hidden": true
       }
      }
     }
    }
   },
   "outputs": [],
   "source": [
    "import pydot\n",
    "import pandas as pd\n",
    "import numpy as np\n",
    "import ipywidgets as widgets\n",
    "from IPython.core.display import display, HTML, Image\n",
    "import qgrid\n",
    "from statsmodels.stats.weightstats import ztest\n",
    "from statsmodels.stats.weightstats import ttest_ind\n",
    "import matplotlib.pyplot as plt\n",
    "%matplotlib inline\n",
    "plt.style.use('ggplot')"
   ]
  },
  {
   "cell_type": "raw",
   "metadata": {
    "extensions": {
     "jupyter_dashboards": {
      "version": 1,
      "views": {
       "grid_default": {
        "col": 0,
        "height": 4,
        "hidden": true,
        "row": 0,
        "width": 12
       },
       "report_default": {
        "hidden": false
       }
      }
     }
    }
   },
   "source": [
    "Generating data frames"
   ]
  },
  {
   "cell_type": "code",
   "execution_count": 2,
   "metadata": {
    "extensions": {
     "jupyter_dashboards": {
      "version": 1,
      "views": {
       "grid_default": {
        "col": 0,
        "height": 15,
        "hidden": true,
        "row": 0,
        "width": 12
       },
       "report_default": {
        "hidden": false
       }
      }
     }
    }
   },
   "outputs": [
    {
     "data": {
      "application/vnd.jupyter.widget-view+json": {
       "model_id": "36190a3b183d4c57b30f95e53ce0f85c",
       "version_major": 2,
       "version_minor": 0
      },
      "text/html": [
       "<p>Failed to display Jupyter Widget of type <code>Tab</code>.</p>\n",
       "<p>\n",
       "  If you're reading this message in the Jupyter Notebook or JupyterLab Notebook, it may mean\n",
       "  that the widgets JavaScript is still loading. If this message persists, it\n",
       "  likely means that the widgets JavaScript library is either not installed or\n",
       "  not enabled. See the <a href=\"https://ipywidgets.readthedocs.io/en/stable/user_install.html\">Jupyter\n",
       "  Widgets Documentation</a> for setup instructions.\n",
       "</p>\n",
       "<p>\n",
       "  If you're reading this message in another frontend (for example, a static\n",
       "  rendering on GitHub or <a href=\"https://nbviewer.jupyter.org/\">NBViewer</a>),\n",
       "  it may mean that your frontend doesn't currently support widgets.\n",
       "</p>\n"
      ],
      "text/plain": [
       "Tab(children=(HBox(children=(QgridWidget(grid_options={'fullWidthRows': True, 'rowHeight': 30, 'forceFitColumns': True, 'enableTextSelectionOnCells': True, 'editable': False, 'explicitInitialization': True, 'minVisibleRows': 8, 'autoEdit': True, 'enableColumnReorder': True, 'maxVisibleRows': 15, 'defaultColumnWidth': 300, 'syncColumnCellResize': True}, precision=5),)), HBox(children=(QgridWidget(grid_options={'fullWidthRows': True, 'rowHeight': 30, 'forceFitColumns': True, 'enableTextSelectionOnCells': True, 'editable': False, 'explicitInitialization': True, 'minVisibleRows': 8, 'autoEdit': True, 'enableColumnReorder': True, 'maxVisibleRows': 15, 'defaultColumnWidth': 300, 'syncColumnCellResize': True}, precision=5, show_toolbar=True),))), _titles={u'1': 'Solid', u'0': 'PGM'})"
      ]
     },
     "metadata": {},
     "output_type": "display_data"
    }
   ],
   "source": [
    "df = pd.read_csv('../input/mirna.csv', sep=';')[['class','seq']]\n",
    "df = df.drop(df.index[[10,26]]).reset_index()\n",
    "\n",
    "del df['index']\n",
    "\n",
    "pgm = df.iloc[0:10].reset_index()\n",
    "solid = df.iloc[10:].reset_index()\n",
    "\n",
    "del pgm['index']\n",
    "del solid['index']\n",
    "\n",
    "options = {\n",
    "    'fullWidthRows': True,\n",
    "    'syncColumnCellResize': True,\n",
    "    'forceFitColumns': True,\n",
    "    'defaultColumnWidth': 300,\n",
    "    'rowHeight': 30,\n",
    "    'enableColumnReorder': True,\n",
    "    'enableTextSelectionOnCells': True,\n",
    "    'editable': False,\n",
    "    'autoEdit': True\n",
    "}\n",
    "pgm = pgm.set_index('class')\n",
    "solid = solid.set_index('class')\n",
    "\n",
    "pgm_w = widgets.HBox([qgrid.show_grid(pgm, show_toolbar=False, grid_options=options)])\n",
    "solid_w = widgets.HBox([qgrid.show_grid(solid, show_toolbar=True, grid_options=options)])\n",
    "\n",
    "tab = widgets.Tab([pgm_w, solid_w])\n",
    "tab.set_title(0, 'PGM')\n",
    "tab.set_title(1, 'Solid')\n",
    "display(tab)"
   ]
  },
  {
   "cell_type": "markdown",
   "metadata": {
    "extensions": {
     "jupyter_dashboards": {
      "version": 1,
      "views": {
       "grid_default": {
        "hidden": true
       },
       "report_default": {
        "hidden": false
       }
      }
     }
    }
   },
   "source": [
    "Building graphs to analysis patterns"
   ]
  },
  {
   "cell_type": "code",
   "execution_count": 3,
   "metadata": {
    "extensions": {
     "jupyter_dashboards": {
      "version": 1,
      "views": {
       "grid_default": {
        "col": 0,
        "height": 41,
        "hidden": false,
        "row": 0,
        "width": 12
       },
       "report_default": {
        "hidden": false
       }
      }
     }
    }
   },
   "outputs": [
    {
     "data": {
      "text/html": [
       "<center><h1>PGM</h1></center>"
      ],
      "text/plain": [
       "<IPython.core.display.HTML object>"
      ]
     },
     "metadata": {},
     "output_type": "display_data"
    },
    {
     "data": {
      "application/vnd.jupyter.widget-view+json": {
       "model_id": "7b2836b10c0d40e99ece497e499659a2",
       "version_major": 2,
       "version_minor": 0
      },
      "text/html": [
       "<p>Failed to display Jupyter Widget of type <code>QgridWidget</code>.</p>\n",
       "<p>\n",
       "  If you're reading this message in the Jupyter Notebook or JupyterLab Notebook, it may mean\n",
       "  that the widgets JavaScript is still loading. If this message persists, it\n",
       "  likely means that the widgets JavaScript library is either not installed or\n",
       "  not enabled. See the <a href=\"https://ipywidgets.readthedocs.io/en/stable/user_install.html\">Jupyter\n",
       "  Widgets Documentation</a> for setup instructions.\n",
       "</p>\n",
       "<p>\n",
       "  If you're reading this message in another frontend (for example, a static\n",
       "  rendering on GitHub or <a href=\"https://nbviewer.jupyter.org/\">NBViewer</a>),\n",
       "  it may mean that your frontend doesn't currently support widgets.\n",
       "</p>\n"
      ],
      "text/plain": [
       "QgridWidget(grid_options={'enableTextSelectionOnCells': True, 'editable': True, 'explicitInitialization': True, 'minVisibleRows': 8, 'enableColumnReorder': False, 'defaultColumnWidth': 150, 'maxVisibleRows': 15, 'fullWidthRows': True, 'rowHeight': 28, 'autoEdit': False, 'syncColumnCellResize': True, 'forceFitColumns': True}, precision=5)"
      ]
     },
     "metadata": {},
     "output_type": "display_data"
    },
    {
     "data": {
      "text/html": [
       "<center><h1>SOLID</h1></center>"
      ],
      "text/plain": [
       "<IPython.core.display.HTML object>"
      ]
     },
     "metadata": {},
     "output_type": "display_data"
    },
    {
     "data": {
      "application/vnd.jupyter.widget-view+json": {
       "model_id": "f96c61ae7b984cea9e52bd4a7f885347",
       "version_major": 2,
       "version_minor": 0
      },
      "text/html": [
       "<p>Failed to display Jupyter Widget of type <code>QgridWidget</code>.</p>\n",
       "<p>\n",
       "  If you're reading this message in the Jupyter Notebook or JupyterLab Notebook, it may mean\n",
       "  that the widgets JavaScript is still loading. If this message persists, it\n",
       "  likely means that the widgets JavaScript library is either not installed or\n",
       "  not enabled. See the <a href=\"https://ipywidgets.readthedocs.io/en/stable/user_install.html\">Jupyter\n",
       "  Widgets Documentation</a> for setup instructions.\n",
       "</p>\n",
       "<p>\n",
       "  If you're reading this message in another frontend (for example, a static\n",
       "  rendering on GitHub or <a href=\"https://nbviewer.jupyter.org/\">NBViewer</a>),\n",
       "  it may mean that your frontend doesn't currently support widgets.\n",
       "</p>\n"
      ],
      "text/plain": [
       "QgridWidget(grid_options={'enableTextSelectionOnCells': True, 'editable': True, 'explicitInitialization': True, 'minVisibleRows': 8, 'enableColumnReorder': False, 'defaultColumnWidth': 150, 'maxVisibleRows': 15, 'fullWidthRows': True, 'rowHeight': 28, 'autoEdit': False, 'syncColumnCellResize': True, 'forceFitColumns': True}, precision=5)"
      ]
     },
     "metadata": {},
     "output_type": "display_data"
    }
   ],
   "source": [
    "def seq_graph_degree_count(df, inplace=False):\n",
    "    \n",
    "    assert ('seq') in df.columns\n",
    "    \n",
    "    edges = {}\n",
    "    \n",
    "    if not inplace:\n",
    "        df = df.copy()\n",
    "    \n",
    "    degrees_in = {'a': [], 'u': [], 'g': [], 'c': []}\n",
    "    degrees_out = {'a': [], 'u': [], 'g': [], 'c': []}\n",
    "    \n",
    "    for index, row in df.iterrows():\n",
    "\n",
    "        letters = [i for i in row['seq'].lower()]\n",
    "\n",
    "        assert len(letters) > 1\n",
    "        \n",
    "        degree_in = {'a': 0, 'u': 0, 'g': 0, 'c': 0}\n",
    "        degree_out = {'a': 0, 'u': 0, 'g': 0, 'c': 0}\n",
    "        \n",
    "        for i in range(len(letters) - 1):\n",
    "            degree_in[letters[i + 1]] += 1\n",
    "            degree_out[letters[i]] += 1\n",
    "            \n",
    "            if letters[i] not in edges:\n",
    "                edges[letters[i]] = {letters[i + 1]: 1}\n",
    "                \n",
    "            elif letters[i + 1] not in edges[letters[i]]:\n",
    "                edges[letters[i]][letters[i + 1]] = 1\n",
    "            \n",
    "            else:\n",
    "                edges[letters[i]][letters[i + 1]] += 1\n",
    "                 \n",
    "        for key in degree_in:\n",
    "            degrees_in[key].append(degree_in[key])\n",
    "            degrees_out[key].append(degree_out[key])\n",
    "    \n",
    "    for key in degrees_in:\n",
    "        df[key + '_in'] = [float(x) for x in degrees_in[key]]\n",
    "        df[key + '_out'] = [float(x) for x in degrees_out[key]]\n",
    "        df[key + '_both'] = [float(x) for x in [sum(x) for x in zip(degrees_in[key], degrees_out[key])]]\n",
    "\n",
    "        \n",
    "    for i in edges:\n",
    "        for j in edges[i]:\n",
    "            edges[i][j] /= float(df.shape[0])\n",
    "    \n",
    "    return df, edges\n",
    "\n",
    "\n",
    "edges__ = []\n",
    "\n",
    "labels = ['PGM', 'SOLID']\n",
    "\n",
    "df_all = None\n",
    "\n",
    "for index, df in enumerate([pgm, solid]):\n",
    "    \n",
    "    display(HTML('<center><h1>' + labels[index] + '</h1></center>'))\n",
    "    \n",
    "    _, e = seq_graph_degree_count(df, inplace=True)\n",
    "    \n",
    "    edges__.append(e)\n",
    "\n",
    "    display(qgrid.show_grid(df))\n",
    "    \n",
    "    df.to_csv('../output/' + labels[index] + '.csv', sep=',', header=True, index=True)\n",
    "    \n",
    "    df['group'] = labels[index]\n",
    "    \n",
    "    if df_all is None:\n",
    "        df_all = df\n",
    "    else:\n",
    "        df_all = pd.concat([df_all, df])"
   ]
  },
  {
   "cell_type": "code",
   "execution_count": 4,
   "metadata": {},
   "outputs": [
    {
     "data": {
      "text/html": [
       "<center><h1>Hypothesis Test</h1></center>"
      ],
      "text/plain": [
       "<IPython.core.display.HTML object>"
      ]
     },
     "metadata": {},
     "output_type": "display_data"
    },
    {
     "data": {
      "application/vnd.jupyter.widget-view+json": {
       "model_id": "bf229ec6fc524a9da63a379f8ae4d749",
       "version_major": 2,
       "version_minor": 0
      },
      "text/html": [
       "<p>Failed to display Jupyter Widget of type <code>QgridWidget</code>.</p>\n",
       "<p>\n",
       "  If you're reading this message in the Jupyter Notebook or JupyterLab Notebook, it may mean\n",
       "  that the widgets JavaScript is still loading. If this message persists, it\n",
       "  likely means that the widgets JavaScript library is either not installed or\n",
       "  not enabled. See the <a href=\"https://ipywidgets.readthedocs.io/en/stable/user_install.html\">Jupyter\n",
       "  Widgets Documentation</a> for setup instructions.\n",
       "</p>\n",
       "<p>\n",
       "  If you're reading this message in another frontend (for example, a static\n",
       "  rendering on GitHub or <a href=\"https://nbviewer.jupyter.org/\">NBViewer</a>),\n",
       "  it may mean that your frontend doesn't currently support widgets.\n",
       "</p>\n"
      ],
      "text/plain": [
       "QgridWidget(grid_options={'enableTextSelectionOnCells': True, 'editable': True, 'explicitInitialization': True, 'minVisibleRows': 8, 'enableColumnReorder': False, 'defaultColumnWidth': 150, 'maxVisibleRows': 15, 'fullWidthRows': True, 'rowHeight': 28, 'autoEdit': False, 'syncColumnCellResize': True, 'forceFitColumns': True}, precision=5)"
      ]
     },
     "metadata": {},
     "output_type": "display_data"
    }
   ],
   "source": [
    "display(HTML('<center><h1>Hypothesis Test</h1></center>'))\n",
    "\n",
    "index = ['a_in', 'a_out', 'a_both', 'c_in', 'c_out', 'c_both', 'u_in', 'u_out', \n",
    "         'u_both', 'g_in', 'g_out', 'g_both']\n",
    "\n",
    "pgm_sld_test = pd.DataFrame({'edge_type': index, \n",
    "                        'ztest': [ztest(pgm[c], solid[c])[1] for c in index], \n",
    "                        'ttest': [ttest_ind(pgm[c], solid[c])[1] for c in index]}).set_index('edge_type')\n",
    "\n",
    "pgm_sld_test.to_csv('../output/pgm_sld_test.csv', sep=',', header=True, index=True)\n",
    "\n",
    "qgrid.show_grid(pgm_sld_test)\n"
   ]
  },
  {
   "cell_type": "markdown",
   "metadata": {},
   "source": [
    "### Reading Full miRNA Database (HSA)"
   ]
  },
  {
   "cell_type": "code",
   "execution_count": 5,
   "metadata": {},
   "outputs": [
    {
     "data": {
      "application/vnd.jupyter.widget-view+json": {
       "model_id": "59441c586d2041c1899261971e0ca7a8",
       "version_major": 2,
       "version_minor": 0
      },
      "text/html": [
       "<p>Failed to display Jupyter Widget of type <code>QgridWidget</code>.</p>\n",
       "<p>\n",
       "  If you're reading this message in the Jupyter Notebook or JupyterLab Notebook, it may mean\n",
       "  that the widgets JavaScript is still loading. If this message persists, it\n",
       "  likely means that the widgets JavaScript library is either not installed or\n",
       "  not enabled. See the <a href=\"https://ipywidgets.readthedocs.io/en/stable/user_install.html\">Jupyter\n",
       "  Widgets Documentation</a> for setup instructions.\n",
       "</p>\n",
       "<p>\n",
       "  If you're reading this message in another frontend (for example, a static\n",
       "  rendering on GitHub or <a href=\"https://nbviewer.jupyter.org/\">NBViewer</a>),\n",
       "  it may mean that your frontend doesn't currently support widgets.\n",
       "</p>\n"
      ],
      "text/plain": [
       "QgridWidget(grid_options={'fullWidthRows': True, 'rowHeight': 28, 'forceFitColumns': True, 'enableTextSelectionOnCells': True, 'editable': True, 'explicitInitialization': True, 'minVisibleRows': 8, 'autoEdit': False, 'enableColumnReorder': False, 'maxVisibleRows': 15, 'defaultColumnWidth': 150, 'syncColumnCellResize': True}, precision=5)"
      ]
     },
     "metadata": {},
     "output_type": "display_data"
    }
   ],
   "source": [
    "def mirna_to_df(file_path, n_seq=None):\n",
    "    \n",
    "    columns = ['id', 'accession', 'seq']\n",
    "    \n",
    "    dataset = []\n",
    "    \n",
    "    with open(file_path) as f:\n",
    "        \n",
    "        count = 0\n",
    "        \n",
    "        while True:\n",
    "            \n",
    "            line1 = f.readline()\n",
    "            \n",
    "            line2 = f.readline().lower()\n",
    "            \n",
    "            if not line2: break\n",
    "            \n",
    "            dataset.append(line1[1:].split() + [line2[:-1]])\n",
    "            \n",
    "            count += 1\n",
    "            \n",
    "            if n_seq is not None and count >= n_seq:\n",
    "                break\n",
    "                \n",
    "    return pd.DataFrame(dataset, columns=columns)\n",
    "\n",
    "mirna_all = mirna_to_df('../input/hsa.mirna').set_index('id')\n",
    "\n",
    "display(qgrid.show_grid(mirna_all, grid_options={'editable': True}))\n",
    "            "
   ]
  },
  {
   "cell_type": "markdown",
   "metadata": {},
   "source": [
    "### Reading subset for comparison"
   ]
  },
  {
   "cell_type": "code",
   "execution_count": 6,
   "metadata": {},
   "outputs": [
    {
     "data": {
      "application/vnd.jupyter.widget-view+json": {
       "model_id": "c2d49f96b14a43da9a455a1aa68091f7",
       "version_major": 2,
       "version_minor": 0
      },
      "text/html": [
       "<p>Failed to display Jupyter Widget of type <code>QgridWidget</code>.</p>\n",
       "<p>\n",
       "  If you're reading this message in the Jupyter Notebook or JupyterLab Notebook, it may mean\n",
       "  that the widgets JavaScript is still loading. If this message persists, it\n",
       "  likely means that the widgets JavaScript library is either not installed or\n",
       "  not enabled. See the <a href=\"https://ipywidgets.readthedocs.io/en/stable/user_install.html\">Jupyter\n",
       "  Widgets Documentation</a> for setup instructions.\n",
       "</p>\n",
       "<p>\n",
       "  If you're reading this message in another frontend (for example, a static\n",
       "  rendering on GitHub or <a href=\"https://nbviewer.jupyter.org/\">NBViewer</a>),\n",
       "  it may mean that your frontend doesn't currently support widgets.\n",
       "</p>\n"
      ],
      "text/plain": [
       "QgridWidget(grid_options={'fullWidthRows': True, 'rowHeight': 28, 'forceFitColumns': True, 'enableTextSelectionOnCells': True, 'editable': True, 'explicitInitialization': True, 'minVisibleRows': 8, 'autoEdit': False, 'enableColumnReorder': False, 'maxVisibleRows': 15, 'defaultColumnWidth': 150, 'syncColumnCellResize': True}, precision=5)"
      ]
     },
     "metadata": {},
     "output_type": "display_data"
    }
   ],
   "source": [
    "sequences = []\n",
    "\n",
    "df = pd.read_csv('../input/mirnas_cut_off.csv')\n",
    "\n",
    "for index, row in df.iterrows():\n",
    "    \n",
    "    sss = ''\n",
    "    \n",
    "    ids = row['id'].split('/')\n",
    "    \n",
    "    for _id in ids:\n",
    "        try:\n",
    "            sss += mirna_all.loc[_id]['seq']\n",
    "        except:\n",
    "            print(_id)\n",
    "\n",
    "    if sss != '':\n",
    "        sequences.append([row['id'], sss])\n",
    "\n",
    "cutoff = pd.DataFrame(sequences, columns=['id', 'seq']).set_index('id')\n",
    "cutoff['seq'] = cutoff['seq'].map(lambda x : x.lower())\n",
    "\n",
    "display(qgrid.show_grid(cutoff, grid_options={'editable': True}))"
   ]
  },
  {
   "cell_type": "markdown",
   "metadata": {},
   "source": [
    "### Comparing PGM and SOLID with Cutoff"
   ]
  },
  {
   "cell_type": "code",
   "execution_count": 7,
   "metadata": {},
   "outputs": [
    {
     "data": {
      "application/vnd.jupyter.widget-view+json": {
       "model_id": "90eaae3626e04568ab8ac67c99f5fe72",
       "version_major": 2,
       "version_minor": 0
      },
      "text/html": [
       "<p>Failed to display Jupyter Widget of type <code>QgridWidget</code>.</p>\n",
       "<p>\n",
       "  If you're reading this message in the Jupyter Notebook or JupyterLab Notebook, it may mean\n",
       "  that the widgets JavaScript is still loading. If this message persists, it\n",
       "  likely means that the widgets JavaScript library is either not installed or\n",
       "  not enabled. See the <a href=\"https://ipywidgets.readthedocs.io/en/stable/user_install.html\">Jupyter\n",
       "  Widgets Documentation</a> for setup instructions.\n",
       "</p>\n",
       "<p>\n",
       "  If you're reading this message in another frontend (for example, a static\n",
       "  rendering on GitHub or <a href=\"https://nbviewer.jupyter.org/\">NBViewer</a>),\n",
       "  it may mean that your frontend doesn't currently support widgets.\n",
       "</p>\n"
      ],
      "text/plain": [
       "QgridWidget(grid_options={'enableTextSelectionOnCells': True, 'editable': True, 'explicitInitialization': True, 'minVisibleRows': 8, 'enableColumnReorder': False, 'defaultColumnWidth': 150, 'maxVisibleRows': 15, 'fullWidthRows': True, 'rowHeight': 28, 'autoEdit': False, 'syncColumnCellResize': True, 'forceFitColumns': True}, precision=5)"
      ]
     },
     "metadata": {},
     "output_type": "display_data"
    }
   ],
   "source": [
    "cutoff_with_degree, _ = seq_graph_degree_count(cutoff)\n",
    "\n",
    "display(qgrid.show_grid(cutoff_with_degree))"
   ]
  },
  {
   "cell_type": "code",
   "execution_count": 8,
   "metadata": {},
   "outputs": [
    {
     "data": {
      "application/vnd.jupyter.widget-view+json": {
       "model_id": "0399632be5fd46268caf25b604cf6325",
       "version_major": 2,
       "version_minor": 0
      },
      "text/html": [
       "<p>Failed to display Jupyter Widget of type <code>QgridWidget</code>.</p>\n",
       "<p>\n",
       "  If you're reading this message in the Jupyter Notebook or JupyterLab Notebook, it may mean\n",
       "  that the widgets JavaScript is still loading. If this message persists, it\n",
       "  likely means that the widgets JavaScript library is either not installed or\n",
       "  not enabled. See the <a href=\"https://ipywidgets.readthedocs.io/en/stable/user_install.html\">Jupyter\n",
       "  Widgets Documentation</a> for setup instructions.\n",
       "</p>\n",
       "<p>\n",
       "  If you're reading this message in another frontend (for example, a static\n",
       "  rendering on GitHub or <a href=\"https://nbviewer.jupyter.org/\">NBViewer</a>),\n",
       "  it may mean that your frontend doesn't currently support widgets.\n",
       "</p>\n"
      ],
      "text/plain": [
       "QgridWidget(grid_options={'enableTextSelectionOnCells': True, 'editable': True, 'explicitInitialization': True, 'minVisibleRows': 8, 'enableColumnReorder': False, 'defaultColumnWidth': 150, 'maxVisibleRows': 15, 'fullWidthRows': True, 'rowHeight': 28, 'autoEdit': False, 'syncColumnCellResize': True, 'forceFitColumns': True}, precision=5)"
      ]
     },
     "metadata": {},
     "output_type": "display_data"
    },
    {
     "data": {
      "application/vnd.jupyter.widget-view+json": {
       "model_id": "c9b0c7589ae5436c90f6bff9ff5d6994",
       "version_major": 2,
       "version_minor": 0
      },
      "text/html": [
       "<p>Failed to display Jupyter Widget of type <code>QgridWidget</code>.</p>\n",
       "<p>\n",
       "  If you're reading this message in the Jupyter Notebook or JupyterLab Notebook, it may mean\n",
       "  that the widgets JavaScript is still loading. If this message persists, it\n",
       "  likely means that the widgets JavaScript library is either not installed or\n",
       "  not enabled. See the <a href=\"https://ipywidgets.readthedocs.io/en/stable/user_install.html\">Jupyter\n",
       "  Widgets Documentation</a> for setup instructions.\n",
       "</p>\n",
       "<p>\n",
       "  If you're reading this message in another frontend (for example, a static\n",
       "  rendering on GitHub or <a href=\"https://nbviewer.jupyter.org/\">NBViewer</a>),\n",
       "  it may mean that your frontend doesn't currently support widgets.\n",
       "</p>\n"
      ],
      "text/plain": [
       "QgridWidget(grid_options={'enableTextSelectionOnCells': True, 'editable': True, 'explicitInitialization': True, 'minVisibleRows': 8, 'enableColumnReorder': False, 'defaultColumnWidth': 150, 'maxVisibleRows': 15, 'fullWidthRows': True, 'rowHeight': 28, 'autoEdit': False, 'syncColumnCellResize': True, 'forceFitColumns': True}, precision=5)"
      ]
     },
     "metadata": {},
     "output_type": "display_data"
    }
   ],
   "source": [
    "index = ['a_in', 'a_out', 'a_both', 'c_in', 'c_out', 'c_both', 'u_in', 'u_out', \n",
    "         'u_both', 'g_in', 'g_out', 'g_both']\n",
    "\n",
    "for df in [pgm, solid]:\n",
    "    df_test = pd.DataFrame({'edge_type': index, \n",
    "                            'ztest': [ztest(cutoff_with_degree[c], df[c])[1] for c in index], \n",
    "                            'ttest': [ttest_ind(cutoff_with_degree[c], df[c])[1] for c in index]}) \\\n",
    "    .set_index('edge_type')\n",
    "\n",
    "    display(qgrid.show_grid(df_test))"
   ]
  },
  {
   "cell_type": "markdown",
   "metadata": {},
   "source": [
    "### Comparing PGM and SLD with Cutoff (disjoint)"
   ]
  },
  {
   "cell_type": "code",
   "execution_count": 9,
   "metadata": {},
   "outputs": [
    {
     "data": {
      "application/vnd.jupyter.widget-view+json": {
       "model_id": "425c36efa0f34b6cac1c8b4461fdeec0",
       "version_major": 2,
       "version_minor": 0
      },
      "text/html": [
       "<p>Failed to display Jupyter Widget of type <code>QgridWidget</code>.</p>\n",
       "<p>\n",
       "  If you're reading this message in the Jupyter Notebook or JupyterLab Notebook, it may mean\n",
       "  that the widgets JavaScript is still loading. If this message persists, it\n",
       "  likely means that the widgets JavaScript library is either not installed or\n",
       "  not enabled. See the <a href=\"https://ipywidgets.readthedocs.io/en/stable/user_install.html\">Jupyter\n",
       "  Widgets Documentation</a> for setup instructions.\n",
       "</p>\n",
       "<p>\n",
       "  If you're reading this message in another frontend (for example, a static\n",
       "  rendering on GitHub or <a href=\"https://nbviewer.jupyter.org/\">NBViewer</a>),\n",
       "  it may mean that your frontend doesn't currently support widgets.\n",
       "</p>\n"
      ],
      "text/plain": [
       "QgridWidget(grid_options={'enableTextSelectionOnCells': True, 'editable': True, 'explicitInitialization': True, 'minVisibleRows': 8, 'enableColumnReorder': False, 'defaultColumnWidth': 150, 'maxVisibleRows': 15, 'fullWidthRows': True, 'rowHeight': 28, 'autoEdit': False, 'syncColumnCellResize': True, 'forceFitColumns': True}, precision=5)"
      ]
     },
     "metadata": {},
     "output_type": "display_data"
    },
    {
     "data": {
      "application/vnd.jupyter.widget-view+json": {
       "model_id": "b376d110ec874759a8fb832feb026ed0",
       "version_major": 2,
       "version_minor": 0
      },
      "text/html": [
       "<p>Failed to display Jupyter Widget of type <code>QgridWidget</code>.</p>\n",
       "<p>\n",
       "  If you're reading this message in the Jupyter Notebook or JupyterLab Notebook, it may mean\n",
       "  that the widgets JavaScript is still loading. If this message persists, it\n",
       "  likely means that the widgets JavaScript library is either not installed or\n",
       "  not enabled. See the <a href=\"https://ipywidgets.readthedocs.io/en/stable/user_install.html\">Jupyter\n",
       "  Widgets Documentation</a> for setup instructions.\n",
       "</p>\n",
       "<p>\n",
       "  If you're reading this message in another frontend (for example, a static\n",
       "  rendering on GitHub or <a href=\"https://nbviewer.jupyter.org/\">NBViewer</a>),\n",
       "  it may mean that your frontend doesn't currently support widgets.\n",
       "</p>\n"
      ],
      "text/plain": [
       "QgridWidget(grid_options={'enableTextSelectionOnCells': True, 'editable': True, 'explicitInitialization': True, 'minVisibleRows': 8, 'enableColumnReorder': False, 'defaultColumnWidth': 150, 'maxVisibleRows': 15, 'fullWidthRows': True, 'rowHeight': 28, 'autoEdit': False, 'syncColumnCellResize': True, 'forceFitColumns': True}, precision=5)"
      ]
     },
     "metadata": {},
     "output_type": "display_data"
    }
   ],
   "source": [
    "index = ['a_in', 'a_out', 'a_both', 'c_in', 'c_out', 'c_both', 'u_in', 'u_out', \n",
    "         'u_both', 'g_in', 'g_out', 'g_both']\n",
    "\n",
    "\n",
    "cutoff_with_degree['seq'] = cutoff_with_degree['seq'].map(lambda x : x.lower())\n",
    "\n",
    "for df in [pgm, solid]:\n",
    "    \n",
    "    cutoff_with_degree_disjoint = cutoff_with_degree[~cutoff_with_degree.seq.isin(df.seq.values)]\n",
    "    \n",
    "    df_test = pd.DataFrame({'index': index, \n",
    "                            'ztest': [ztest(cutoff_with_degree_disjoint[c], df[c])[1] for c in index], \n",
    "                            'ttest': [ttest_ind(cutoff_with_degree_disjoint[c], df[c])[1] for c in index]})\n",
    "\n",
    "    display(qgrid.show_grid(df_test))"
   ]
  },
  {
   "cell_type": "markdown",
   "metadata": {},
   "source": [
    "### Comparing PGM and SLD with All miRNA (hsa)"
   ]
  },
  {
   "cell_type": "code",
   "execution_count": 10,
   "metadata": {},
   "outputs": [
    {
     "data": {
      "application/vnd.jupyter.widget-view+json": {
       "model_id": "4d2a9fa16cd94cefba9d99107d590c8c",
       "version_major": 2,
       "version_minor": 0
      },
      "text/html": [
       "<p>Failed to display Jupyter Widget of type <code>QgridWidget</code>.</p>\n",
       "<p>\n",
       "  If you're reading this message in the Jupyter Notebook or JupyterLab Notebook, it may mean\n",
       "  that the widgets JavaScript is still loading. If this message persists, it\n",
       "  likely means that the widgets JavaScript library is either not installed or\n",
       "  not enabled. See the <a href=\"https://ipywidgets.readthedocs.io/en/stable/user_install.html\">Jupyter\n",
       "  Widgets Documentation</a> for setup instructions.\n",
       "</p>\n",
       "<p>\n",
       "  If you're reading this message in another frontend (for example, a static\n",
       "  rendering on GitHub or <a href=\"https://nbviewer.jupyter.org/\">NBViewer</a>),\n",
       "  it may mean that your frontend doesn't currently support widgets.\n",
       "</p>\n"
      ],
      "text/plain": [
       "QgridWidget(grid_options={'enableTextSelectionOnCells': True, 'editable': True, 'explicitInitialization': True, 'minVisibleRows': 8, 'enableColumnReorder': False, 'defaultColumnWidth': 150, 'maxVisibleRows': 15, 'fullWidthRows': True, 'rowHeight': 28, 'autoEdit': False, 'syncColumnCellResize': True, 'forceFitColumns': True}, precision=5)"
      ]
     },
     "metadata": {},
     "output_type": "display_data"
    }
   ],
   "source": [
    "mirna_all_with_degree, e_all = seq_graph_degree_count(mirna_all, inplace=False)\n",
    "edges__.append(e_all)\n",
    "\n",
    "del mirna_all_with_degree['accession']\n",
    "\n",
    "mirna_all_with_degree['group'] = 'miRNA'\n",
    "mirna_all_with_degree = mirna_all_with_degree.reset_index()\n",
    "\n",
    "del mirna_all_with_degree['id']\n",
    "\n",
    "all__ = pd.concat([df_all, mirna_all_with_degree])\n",
    "all__ = all__.reset_index()\n",
    "\n",
    "del all__['index']\n",
    "\n",
    "edge_types = [p + s for p in ['a', 'c', 'g', 'u'] for s in ['_in', '_out', '_both']]\n",
    "\n",
    "d2 = None\n",
    "\n",
    "for index, column in all__[edge_types].iteritems():\n",
    "    if d2 is None:\n",
    "        d2 = pd.DataFrame({'degree': column, 'edge_type': column.name, 'group': all__['group']})\n",
    "    else:\n",
    "        d2 = pd.concat([d2, pd.DataFrame({'degree': column, 'edge_type': column.name, 'group': all__['group']})])\n",
    "\n",
    "d2 = d2.reset_index()\n",
    "        \n",
    "display(qgrid.show_grid(d2))\n",
    "\n",
    "d2.to_csv('../output/pgm_solid_mirna_table.csv', sep=',', header=True, index=False)"
   ]
  },
  {
   "cell_type": "code",
   "execution_count": 11,
   "metadata": {
    "scrolled": true
   },
   "outputs": [
    {
     "data": {
      "text/html": [
       "<center><h2>PGM and HSA</h2></center>"
      ],
      "text/plain": [
       "<IPython.core.display.HTML object>"
      ]
     },
     "metadata": {},
     "output_type": "display_data"
    },
    {
     "data": {
      "application/vnd.jupyter.widget-view+json": {
       "model_id": "d2de492194324143bdb0dc32dd1f46a7",
       "version_major": 2,
       "version_minor": 0
      },
      "text/html": [
       "<p>Failed to display Jupyter Widget of type <code>QgridWidget</code>.</p>\n",
       "<p>\n",
       "  If you're reading this message in the Jupyter Notebook or JupyterLab Notebook, it may mean\n",
       "  that the widgets JavaScript is still loading. If this message persists, it\n",
       "  likely means that the widgets JavaScript library is either not installed or\n",
       "  not enabled. See the <a href=\"https://ipywidgets.readthedocs.io/en/stable/user_install.html\">Jupyter\n",
       "  Widgets Documentation</a> for setup instructions.\n",
       "</p>\n",
       "<p>\n",
       "  If you're reading this message in another frontend (for example, a static\n",
       "  rendering on GitHub or <a href=\"https://nbviewer.jupyter.org/\">NBViewer</a>),\n",
       "  it may mean that your frontend doesn't currently support widgets.\n",
       "</p>\n"
      ],
      "text/plain": [
       "QgridWidget(grid_options={'enableTextSelectionOnCells': True, 'editable': True, 'explicitInitialization': True, 'minVisibleRows': 8, 'enableColumnReorder': False, 'defaultColumnWidth': 150, 'maxVisibleRows': 15, 'fullWidthRows': True, 'rowHeight': 28, 'autoEdit': False, 'syncColumnCellResize': True, 'forceFitColumns': True}, precision=5)"
      ]
     },
     "metadata": {},
     "output_type": "display_data"
    },
    {
     "data": {
      "text/html": [
       "<center><h2>SOLiD and HSA</h2></center>"
      ],
      "text/plain": [
       "<IPython.core.display.HTML object>"
      ]
     },
     "metadata": {},
     "output_type": "display_data"
    },
    {
     "data": {
      "application/vnd.jupyter.widget-view+json": {
       "model_id": "62ee8ca9f37e4c8dbf0fee1f147badad",
       "version_major": 2,
       "version_minor": 0
      },
      "text/html": [
       "<p>Failed to display Jupyter Widget of type <code>QgridWidget</code>.</p>\n",
       "<p>\n",
       "  If you're reading this message in the Jupyter Notebook or JupyterLab Notebook, it may mean\n",
       "  that the widgets JavaScript is still loading. If this message persists, it\n",
       "  likely means that the widgets JavaScript library is either not installed or\n",
       "  not enabled. See the <a href=\"https://ipywidgets.readthedocs.io/en/stable/user_install.html\">Jupyter\n",
       "  Widgets Documentation</a> for setup instructions.\n",
       "</p>\n",
       "<p>\n",
       "  If you're reading this message in another frontend (for example, a static\n",
       "  rendering on GitHub or <a href=\"https://nbviewer.jupyter.org/\">NBViewer</a>),\n",
       "  it may mean that your frontend doesn't currently support widgets.\n",
       "</p>\n"
      ],
      "text/plain": [
       "QgridWidget(grid_options={'enableTextSelectionOnCells': True, 'editable': True, 'explicitInitialization': True, 'minVisibleRows': 8, 'enableColumnReorder': False, 'defaultColumnWidth': 150, 'maxVisibleRows': 15, 'fullWidthRows': True, 'rowHeight': 28, 'autoEdit': False, 'syncColumnCellResize': True, 'forceFitColumns': True}, precision=5)"
      ]
     },
     "metadata": {},
     "output_type": "display_data"
    }
   ],
   "source": [
    "index = ['a_in', 'a_out', 'a_both', 'c_in', 'c_out', 'c_both', 'u_in', 'u_out', \n",
    "         'u_both', 'g_in', 'g_out', 'g_both']\n",
    "\n",
    "pgm_sld = None\n",
    "\n",
    "labels = ['PGM', 'SOLiD']\n",
    "\n",
    "for i, df in enumerate([pgm, solid]):\n",
    "    \n",
    "    display(HTML('<center><h2>' + labels[i] + ' and HSA</h2></center>'))\n",
    "    \n",
    "    df_test = None\n",
    "   \n",
    "    for alternative in ['two-sided', 'larger', 'smaller']:\n",
    "        \n",
    "        ddd = pd.DataFrame({'edge_type': index, \n",
    "                                    'ztest_' + alternative: [ztest(mirna_all_with_degree[c], df[c], \n",
    "                                                                   alternative=alternative)[1] for c in index], \n",
    "                                    'ttest_'+ alternative: [ttest_ind(mirna_all_with_degree[c], df[c], \n",
    "                                                                      alternative=alternative)[1] for c in index]})\n",
    "        \n",
    "        if df_test is None:\n",
    "            df_test = ddd\n",
    "        else:\n",
    "            df_test = df_test.merge(ddd, how='inner', on='edge_type')\n",
    "\n",
    "    df_test.to_csv('../output/' + labels[i].lower() + '_mir_test.csv', sep=',', header=True, index=True)\n",
    "            \n",
    "    display(qgrid.show_grid(df_test.set_index('edge_type')))\n",
    "\n",
    "    "
   ]
  },
  {
   "cell_type": "markdown",
   "metadata": {},
   "source": [
    "### Plotting Graph (PGM, SLD, HSA)"
   ]
  },
  {
   "cell_type": "code",
   "execution_count": 18,
   "metadata": {},
   "outputs": [
    {
     "data": {
      "text/html": [
       "<center><table><tr><td><img src=\"graph0.png\"/></td><td><img src=\"graph1.png\"/></td><td><img src=\"graph2.png\"/></td></tr></table></center>"
      ],
      "text/plain": [
       "<IPython.core.display.HTML object>"
      ]
     },
     "execution_count": 18,
     "metadata": {},
     "output_type": "execute_result"
    }
   ],
   "source": [
    "color_option = 4\n",
    "\n",
    "colors = None\n",
    "\n",
    "if color_option == 1:\n",
    "    colors = list(reversed(['#BE0E32', '#B7170D', '#B0410C', '#A9690C', \n",
    "              '#A38D0B', '#8A9C0B', '#5F950A', '#388F0A',\n",
    "              '#138809', '#098120']))\n",
    "\n",
    "elif color_option == 2:\n",
    "    colors = ['#FFFF1F', '#F9E71B', '#F3CF18', '#EEB815', '#E8A012',\n",
    "          '#E3890F', '#DD710C', '#D75909', '#D24206', '#CC2A03', \n",
    "          '#C71300']\n",
    "\n",
    "elif color_option == 2:\n",
    "    colors = ['#9CE77D', '#A1DE6D', '#A9D65D', '#B4CD4F',\n",
    "              '#C1C541', '#BCA934', '#B48828', '#AB661D',\n",
    "              '#A34413', '#9A230A', '#910202']\n",
    "\n",
    "elif color_option == 3:\n",
    "    colors = ['#0025CC', '#0E21B7', '#1C1DA3', '#2A198E',\n",
    "              '#39167A', '#471266', '#550E51', '#640B3D',\n",
    "              '#720728', '#800314', '#8F0000']\n",
    "\n",
    "elif color_option == 4:    \n",
    "    colors = ['#1AA40D', '#36A30E', '#53A20E', '#6FA20E',\n",
    "              '#8BA10E', '#A19B0F', '#A07E0F', '#9F620F',\n",
    "              '#9F460F', '#9E2B0F', '#9E0F0F']\n",
    "\n",
    "elif color_option == 5:    \n",
    "    colors = ['#72E368', '#82E15E', '#96E055', '#ACDE4C',\n",
    "              '#C5DD43', '#DBD43B', '#DAB332', '#D88E29',\n",
    "              '#D76721', '#D53D19', '#D41111']\n",
    "\n",
    "elif color_option == 6:    \n",
    "    colors = ['#C4C4C4', '#C2AEAE', '#C09A9A', '#BE8585', '#BD7171',\n",
    "              '#BB5D5D', '#B94A4A', '#B83737', '#B62424', '#B41212',\n",
    "              '#B20000']\n",
    "else:\n",
    "    colors = ['#000000', '#111010', '#231C1C', '#352525',\n",
    "              '#472A2A', '#592C2C', '#6B2A2A', '#7D2525',\n",
    "              '#8F1C1C', '#A11010', '#B20000']\n",
    "\n",
    "c = []\n",
    "\n",
    "min_max = []\n",
    "nodes_weights = []\n",
    "\n",
    "for edges in edges__:\n",
    "    \n",
    "    values__ = [edges[i][j] for i in edges for j in edges[i]]\n",
    "    \n",
    "    min_max.append((min(values__), max(values__)))\n",
    "    \n",
    "    nw = {'a': 0, 'c': 0, 'u': 0, 'g': 0}\n",
    "    \n",
    "    for src in edges:\n",
    "        for dst in edges[i]:\n",
    "            nw[src] += edges[src][dst]\n",
    "            nw[dst] += edges[src][dst]\n",
    "    \n",
    "    nodes_weights.append(nw)\n",
    "\n",
    "edge_degree_min = min([i[0] for i in min_max])\n",
    "edge_degree_max = max([i[1] for i in min_max])\n",
    "\n",
    "node_degree_min = min([min(nodes_weights[i].values()) for i in range(len(nodes_weights))])\n",
    "node_degree_max = max([max(nodes_weights[i].values()) for i in range(len(nodes_weights))])\n",
    "\n",
    "for index, e in enumerate(edges__):\n",
    "    \n",
    "    graph = pydot.Dot(graph_type='digraph', layout='dot', pad=.25, \n",
    "                      nodesep=.8, ranksep=.8, splines='spline',\n",
    "                      size='6.00cm,4.00cm')\n",
    "\n",
    "    nodes = {}\n",
    "\n",
    "    # creating nodes\n",
    "    for i in e:\n",
    "        \n",
    "        node_weight = nodes_weights[index][i]\n",
    "        \n",
    "        color_index = int(10 * float(node_weight - node_degree_min) / (node_degree_max - node_degree_min))\n",
    "        \n",
    "        node = pydot.Node(i, style='filled', color='black', fillcolor=colors[color_index], \n",
    "                          fontname='ubuntu', shape='circle', penwidth=2.5, fontcolor='white', fontsize=16)\n",
    "        nodes[i] = node\n",
    "        graph.add_node(node)\n",
    "\n",
    "    # creating edges\n",
    "    for i in e:\n",
    "        for j in e[i]:\n",
    "            width = ((float(e[i][j] - edge_degree_min)) / (edge_degree_max - edge_degree_min))\n",
    "            edge = pydot.Edge(nodes[i], nodes[j], penwidth=3. * width, color=colors[int(10 * width)])\n",
    "            graph.add_edge(edge)\n",
    "\n",
    "    file_ = 'graph' + str(index) + '.png'\n",
    "    graph.write_png(file_)\n",
    "\n",
    "    c.append(Image(filename=file_, height=250))\n",
    "\n",
    "HTML('<center><table><tr><td><img src=\"graph0.png\"/></td><td>' \\\n",
    "     '<img src=\"graph1.png\"/></td><td><img src=\"graph2.png\"/></td></tr></table></center>')"
   ]
  },
  {
   "cell_type": "code",
   "execution_count": 46,
   "metadata": {},
   "outputs": [
    {
     "data": {
      "text/html": [
       "<center><img src=\"graph_example.png\"/></center>"
      ],
      "text/plain": [
       "<IPython.core.display.HTML object>"
      ]
     },
     "execution_count": 46,
     "metadata": {},
     "output_type": "execute_result"
    }
   ],
   "source": [
    "seq = 'UCUGAGGUGGAACAGCAGC'.lower()\n",
    "\n",
    "_, e = seq_graph_degree_count(pd.DataFrame({'seq': [seq]}))\n",
    "\n",
    "values__ = [e[i][j] for i in e for j in e[i]]\n",
    "    \n",
    "min_ = min(values__)\n",
    "max_ = max(values__)\n",
    "\n",
    "graph = pydot.Dot(graph_type='digraph', layout='dot', pad=.25, \n",
    "                      nodesep=.8, ranksep=.8, splines='spline',\n",
    "                      size='6.00cm,4.00cm')\n",
    "\n",
    "nodes = {}\n",
    "\n",
    "# creating nodes\n",
    "for i in e:\n",
    "\n",
    "    node_weight = nodes_weights[index][i]\n",
    "\n",
    "    color_index = int(10 * float(node_weight - node_degree_min) / (node_degree_max - node_degree_min))\n",
    "\n",
    "    node = pydot.Node(i, style='filled', color='black', fillcolor=colors[color_index], \n",
    "                      fontname='ubuntu', shape='circle', penwidth=2.5, fontcolor='white', fontsize=16)\n",
    "    nodes[i] = node\n",
    "    graph.add_node(node)\n",
    "\n",
    "# creating edges\n",
    "for i in e:\n",
    "    for j in e[i]:\n",
    "        width = ((float(e[i][j] - min_)) / (max_ - min_))\n",
    "        edge = pydot.Edge(nodes[i], nodes[j], penwidth=max(.5, 3. * width), color=colors[max(1, int(10 * width))])\n",
    "        graph.add_edge(edge)\n",
    "\n",
    "file_ = 'graph_example.png'\n",
    "graph.write_png(file_)\n",
    "\n",
    "HTML('<center><img src=\"graph_example.png\"/></center>')"
   ]
  },
  {
   "cell_type": "markdown",
   "metadata": {
    "extensions": {
     "jupyter_dashboards": {
      "version": 1,
      "views": {
       "grid_default": {
        "hidden": true
       },
       "report_default": {
        "hidden": false
       }
      }
     }
    }
   },
   "source": [
    "### Window Sliding"
   ]
  },
  {
   "cell_type": "code",
   "execution_count": 13,
   "metadata": {
    "extensions": {
     "jupyter_dashboards": {
      "version": 1,
      "views": {
       "grid_default": {
        "col": 0,
        "height": 27,
        "hidden": false,
        "row": 41,
        "width": 12
       },
       "report_default": {
        "hidden": false
       }
      }
     }
    }
   },
   "outputs": [
    {
     "data": {
      "application/vnd.jupyter.widget-view+json": {
       "model_id": "9acd6c729da4431f8ffb1d9d2df54652",
       "version_major": 2,
       "version_minor": 0
      },
      "text/html": [
       "<p>Failed to display Jupyter Widget of type <code>QgridWidget</code>.</p>\n",
       "<p>\n",
       "  If you're reading this message in the Jupyter Notebook or JupyterLab Notebook, it may mean\n",
       "  that the widgets JavaScript is still loading. If this message persists, it\n",
       "  likely means that the widgets JavaScript library is either not installed or\n",
       "  not enabled. See the <a href=\"https://ipywidgets.readthedocs.io/en/stable/user_install.html\">Jupyter\n",
       "  Widgets Documentation</a> for setup instructions.\n",
       "</p>\n",
       "<p>\n",
       "  If you're reading this message in another frontend (for example, a static\n",
       "  rendering on GitHub or <a href=\"https://nbviewer.jupyter.org/\">NBViewer</a>),\n",
       "  it may mean that your frontend doesn't currently support widgets.\n",
       "</p>\n"
      ],
      "text/plain": [
       "QgridWidget(grid_options={'enableTextSelectionOnCells': True, 'editable': True, 'explicitInitialization': True, 'minVisibleRows': 8, 'enableColumnReorder': False, 'defaultColumnWidth': 150, 'maxVisibleRows': 15, 'fullWidthRows': True, 'rowHeight': 28, 'autoEdit': False, 'syncColumnCellResize': True, 'forceFitColumns': True}, precision=5)"
      ]
     },
     "metadata": {},
     "output_type": "display_data"
    },
    {
     "data": {
      "application/vnd.jupyter.widget-view+json": {
       "model_id": "8712ae8cb9594d09b54167337a1492ec",
       "version_major": 2,
       "version_minor": 0
      },
      "text/html": [
       "<p>Failed to display Jupyter Widget of type <code>QgridWidget</code>.</p>\n",
       "<p>\n",
       "  If you're reading this message in the Jupyter Notebook or JupyterLab Notebook, it may mean\n",
       "  that the widgets JavaScript is still loading. If this message persists, it\n",
       "  likely means that the widgets JavaScript library is either not installed or\n",
       "  not enabled. See the <a href=\"https://ipywidgets.readthedocs.io/en/stable/user_install.html\">Jupyter\n",
       "  Widgets Documentation</a> for setup instructions.\n",
       "</p>\n",
       "<p>\n",
       "  If you're reading this message in another frontend (for example, a static\n",
       "  rendering on GitHub or <a href=\"https://nbviewer.jupyter.org/\">NBViewer</a>),\n",
       "  it may mean that your frontend doesn't currently support widgets.\n",
       "</p>\n"
      ],
      "text/plain": [
       "QgridWidget(grid_options={'enableTextSelectionOnCells': True, 'editable': True, 'explicitInitialization': True, 'minVisibleRows': 8, 'enableColumnReorder': False, 'defaultColumnWidth': 150, 'maxVisibleRows': 15, 'fullWidthRows': True, 'rowHeight': 28, 'autoEdit': False, 'syncColumnCellResize': True, 'forceFitColumns': True}, precision=5)"
      ]
     },
     "metadata": {},
     "output_type": "display_data"
    }
   ],
   "source": [
    "for df in [pgm, solid]:\n",
    "    \n",
    "    counts_uu = []\n",
    "    counts_uuu = []\n",
    "    \n",
    "    for index, row in df.iterrows():\n",
    "\n",
    "        pattern_count_uu = 0\n",
    "        pattern_count_uuu = 0\n",
    "\n",
    "        seq = row['seq']\n",
    "\n",
    "        # Window with size 2\n",
    "        for i in range(len(seq) - 1):\n",
    "            pattern_count_uu += ''.join(set(seq[i:(i+2)])) == 'u'\n",
    "\n",
    "        counts_uu += [pattern_count_uu]\n",
    "        \n",
    "        # Window with size 2\n",
    "        for i in range(len(seq) - 2):\n",
    "            pattern_count_uuu += ''.join(set(seq[i:(i+3)])) == 'u'\n",
    "\n",
    "        counts_uuu += [pattern_count_uuu]\n",
    "\n",
    "    df['counts_uu'] = counts_uu\n",
    "    df['counts_uuu'] = counts_uuu\n",
    "    \n",
    "columns = ['seq', 'counts_uu', 'counts_uuu']\n",
    "display(qgrid.show_grid(pgm[columns]))\n",
    "display(qgrid.show_grid(solid[columns]))"
   ]
  },
  {
   "cell_type": "markdown",
   "metadata": {
    "extensions": {
     "jupyter_dashboards": {
      "version": 1,
      "views": {
       "grid_default": {
        "col": 0,
        "height": 4,
        "hidden": false,
        "row": 68,
        "width": 4
       },
       "report_default": {
        "hidden": false
       }
      }
     }
    }
   },
   "source": [
    "### Z-Test"
   ]
  },
  {
   "cell_type": "code",
   "execution_count": 14,
   "metadata": {
    "extensions": {
     "jupyter_dashboards": {
      "version": 1,
      "views": {
       "grid_default": {
        "col": 4,
        "height": 4,
        "hidden": false,
        "row": 68,
        "width": 4
       },
       "report_default": {
        "hidden": false
       }
      }
     }
    }
   },
   "outputs": [
    {
     "name": "stdout",
     "output_type": "stream",
     "text": [
      "p-value : 0.0562756453855\n",
      "p-value : 0.109598583399\n"
     ]
    }
   ],
   "source": [
    "print('p-value : ' + str(ztest(pgm['counts_uu'], solid['counts_uu'])[1]))\n",
    "print('p-value : ' + str(ztest(pgm['counts_uuu'], solid['counts_uuu'])[1]))"
   ]
  },
  {
   "cell_type": "markdown",
   "metadata": {
    "extensions": {
     "jupyter_dashboards": {
      "version": 1,
      "views": {
       "grid_default": {
        "col": 8,
        "height": 4,
        "hidden": false,
        "row": 68,
        "width": 4
       },
       "report_default": {
        "hidden": false
       }
      }
     }
    }
   },
   "source": [
    "### T-Test"
   ]
  },
  {
   "cell_type": "code",
   "execution_count": 15,
   "metadata": {
    "extensions": {
     "jupyter_dashboards": {
      "version": 1,
      "views": {
       "grid_default": {
        "col": 0,
        "height": 4,
        "hidden": false,
        "row": 72,
        "width": 4
       },
       "report_default": {
        "hidden": false
       }
      }
     }
    }
   },
   "outputs": [
    {
     "name": "stdout",
     "output_type": "stream",
     "text": [
      "p-value : 0.0688308204309\n",
      "p-value : 0.123246332886\n"
     ]
    }
   ],
   "source": [
    "print('p-value : ' + str(ttest_ind(pgm['counts_uu'], solid['counts_uu'])[1]))\n",
    "print('p-value : ' + str(ttest_ind(pgm['counts_uuu'], solid['counts_uuu'])[1]))"
   ]
  }
 ],
 "metadata": {
  "extensions": {
   "jupyter_dashboards": {
    "activeView": "report_default",
    "version": 1,
    "views": {
     "grid_default": {
      "cellMargin": 10,
      "defaultCellHeight": 20,
      "maxColumns": 12,
      "name": "grid",
      "type": "grid"
     },
     "report_default": {
      "name": "report",
      "type": "report"
     }
    }
   }
  },
  "kernelspec": {
   "display_name": "Python 3",
   "language": "python",
   "name": "python3"
  },
  "language_info": {
   "codemirror_mode": {
    "name": "ipython",
    "version": 2
   },
   "file_extension": ".py",
   "mimetype": "text/x-python",
   "name": "python",
   "nbconvert_exporter": "python",
   "pygments_lexer": "ipython2",
   "version": "2.7.12"
  }
 },
 "nbformat": 4,
 "nbformat_minor": 2
}
